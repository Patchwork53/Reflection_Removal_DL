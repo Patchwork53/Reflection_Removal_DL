{
  "nbformat": 4,
  "nbformat_minor": 0,
  "metadata": {
    "colab": {
      "provenance": [],
      "gpuType": "T4"
    },
    "kernelspec": {
      "name": "python3",
      "display_name": "Python 3"
    },
    "language_info": {
      "name": "python"
    },
    "accelerator": "GPU",
    "gpuClass": "standard"
  },
  "cells": [
    {
      "cell_type": "code",
      "source": [
        "!which python # should return /usr/local/bin/python"
      ],
      "metadata": {
        "colab": {
          "base_uri": "https://localhost:8080/"
        },
        "id": "xQlLC9AtISoa",
        "outputId": "67a18ba6-dac1-4dc1-d05e-f39e4022e2b0"
      },
      "execution_count": null,
      "outputs": [
        {
          "output_type": "stream",
          "name": "stdout",
          "text": [
            "/usr/local/bin/python\n"
          ]
        }
      ]
    },
    {
      "cell_type": "code",
      "source": [
        "!python --version"
      ],
      "metadata": {
        "colab": {
          "base_uri": "https://localhost:8080/"
        },
        "id": "582pSP5AIVCZ",
        "outputId": "37def917-39bb-4d7c-83d1-4dd6860c5e72"
      },
      "execution_count": null,
      "outputs": [
        {
          "output_type": "stream",
          "name": "stdout",
          "text": [
            "Python 3.10.11\n"
          ]
        }
      ]
    },
    {
      "cell_type": "code",
      "source": [
        "!echo $PYTHONPATH"
      ],
      "metadata": {
        "colab": {
          "base_uri": "https://localhost:8080/"
        },
        "id": "bFmBBcagIXFp",
        "outputId": "a496ad92-ca61-4819-89c4-2b5eae762cb0"
      },
      "execution_count": null,
      "outputs": [
        {
          "output_type": "stream",
          "name": "stdout",
          "text": [
            "/env/python\n"
          ]
        }
      ]
    },
    {
      "cell_type": "code",
      "source": [
        "%env PYTHONPATH="
      ],
      "metadata": {
        "colab": {
          "base_uri": "https://localhost:8080/"
        },
        "id": "Ij_4ifU3Iav6",
        "outputId": "0eff9935-bf7f-47a8-9126-74641353cad0"
      },
      "execution_count": null,
      "outputs": [
        {
          "output_type": "stream",
          "name": "stdout",
          "text": [
            "env: PYTHONPATH=\n"
          ]
        }
      ]
    },
    {
      "cell_type": "code",
      "source": [
        "%%capture\n",
        "%%bash\n",
        "MINICONDA_INSTALLER_SCRIPT=Miniconda3-4.5.4-Linux-x86_64.sh\n",
        "MINICONDA_PREFIX=/usr/local\n",
        "wget https://repo.continuum.io/miniconda/$MINICONDA_INSTALLER_SCRIPT\n",
        "chmod +x $MINICONDA_INSTALLER_SCRIPT\n",
        "./$MINICONDA_INSTALLER_SCRIPT -b -f -p $MINICONDA_PREFIX"
      ],
      "metadata": {
        "id": "VHU3NqwhIdCB"
      },
      "execution_count": null,
      "outputs": []
    },
    {
      "cell_type": "code",
      "source": [
        "!which conda # should return /usr/local/bin/conda"
      ],
      "metadata": {
        "colab": {
          "base_uri": "https://localhost:8080/"
        },
        "id": "AVKca0UYIgKD",
        "outputId": "14434cac-2859-49f2-ecd4-ed9ca78425cf"
      },
      "execution_count": null,
      "outputs": [
        {
          "output_type": "stream",
          "name": "stdout",
          "text": [
            "/usr/local/bin/conda\n"
          ]
        }
      ]
    },
    {
      "cell_type": "code",
      "source": [
        "!conda --version # should return 4.5.4"
      ],
      "metadata": {
        "colab": {
          "base_uri": "https://localhost:8080/"
        },
        "id": "h7YY_s48Iir8",
        "outputId": "283d9766-b261-4656-a621-c783713ddba7"
      },
      "execution_count": null,
      "outputs": [
        {
          "output_type": "stream",
          "name": "stdout",
          "text": [
            "conda 4.5.4\n"
          ]
        }
      ]
    },
    {
      "cell_type": "code",
      "source": [
        "!which python # still returns /usr/local/bin/python"
      ],
      "metadata": {
        "colab": {
          "base_uri": "https://localhost:8080/"
        },
        "id": "IQI8wWZIIkvl",
        "outputId": "83683054-0493-468a-dae6-8fcbcaa3b9c7"
      },
      "execution_count": null,
      "outputs": [
        {
          "output_type": "stream",
          "name": "stdout",
          "text": [
            "/usr/local/bin/python\n"
          ]
        }
      ]
    },
    {
      "cell_type": "code",
      "source": [
        "!python --version # now returns Python 3.6.5 :: Anaconda, Inc."
      ],
      "metadata": {
        "colab": {
          "base_uri": "https://localhost:8080/"
        },
        "id": "V-WEOVdCImuX",
        "outputId": "42451fd2-9efa-462d-dcac-2a3d27aa6d5d"
      },
      "execution_count": null,
      "outputs": [
        {
          "output_type": "stream",
          "name": "stdout",
          "text": [
            "Python 3.6.5 :: Anaconda, Inc.\n"
          ]
        }
      ]
    },
    {
      "cell_type": "code",
      "source": [
        "import sys\n",
        "_ = (sys.path\n",
        "        .append(\"/usr/local/lib/python3.6/site-packages\"))\n"
      ],
      "metadata": {
        "id": "5Ovql-eGTdk2"
      },
      "execution_count": null,
      "outputs": []
    },
    {
      "cell_type": "code",
      "execution_count": null,
      "metadata": {
        "colab": {
          "base_uri": "https://localhost:8080/"
        },
        "id": "EBfIu8W1B3DY",
        "outputId": "a271e91b-8c6b-42d1-9810-21238817c144"
      },
      "outputs": [
        {
          "output_type": "stream",
          "name": "stdout",
          "text": [
            "Cloning into 'perceptual-reflection-removal'...\n",
            "remote: Enumerating objects: 113, done.\u001b[K\n",
            "remote: Counting objects: 100% (6/6), done.\u001b[K\n",
            "remote: Compressing objects: 100% (5/5), done.\u001b[K\n",
            "remote: Total 113 (delta 1), reused 6 (delta 1), pack-reused 107\u001b[K\n",
            "Receiving objects: 100% (113/113), 2.22 MiB | 12.87 MiB/s, done.\n",
            "Resolving deltas: 100% (48/48), done.\n"
          ]
        }
      ],
      "source": [
        "!git clone https://github.com/ceciliavision/perceptual-reflection-removal"
      ]
    },
    {
      "cell_type": "code",
      "source": [
        "%cd perceptual-reflection-removal\n",
        "!mkdir VGG_Model\n"
      ],
      "metadata": {
        "colab": {
          "base_uri": "https://localhost:8080/"
        },
        "id": "j_PUfb3KCYMx",
        "outputId": "f411e5e5-dd5b-4be1-b2c6-bdf826799528"
      },
      "execution_count": null,
      "outputs": [
        {
          "output_type": "stream",
          "name": "stdout",
          "text": [
            "/content/perceptual-reflection-removal\n"
          ]
        }
      ]
    },
    {
      "cell_type": "code",
      "source": [
        "%cd VGG_Model"
      ],
      "metadata": {
        "colab": {
          "base_uri": "https://localhost:8080/"
        },
        "id": "UVYpIxBCCz2j",
        "outputId": "9ef7b08d-3074-4012-c844-6cef150baa17"
      },
      "execution_count": null,
      "outputs": [
        {
          "output_type": "stream",
          "name": "stdout",
          "text": [
            "/content/perceptual-reflection-removal/VGG_Model\n"
          ]
        }
      ]
    },
    {
      "cell_type": "code",
      "source": [
        "!wget https://www.vlfeat.org/matconvnet/models/imagenet-vgg-verydeep-19.mat"
      ],
      "metadata": {
        "colab": {
          "base_uri": "https://localhost:8080/"
        },
        "id": "nffGA5OBC1Bp",
        "outputId": "a4ea792d-ad14-4968-e800-fedd36c48b7b"
      },
      "execution_count": null,
      "outputs": [
        {
          "output_type": "stream",
          "name": "stdout",
          "text": [
            "--2023-05-26 18:59:41--  https://www.vlfeat.org/matconvnet/models/imagenet-vgg-verydeep-19.mat\n",
            "Resolving www.vlfeat.org (www.vlfeat.org)... 64.90.48.57\n",
            "Connecting to www.vlfeat.org (www.vlfeat.org)|64.90.48.57|:443... connected.\n",
            "HTTP request sent, awaiting response... 200 OK\n",
            "Length: 534904783 (510M)\n",
            "Saving to: ‘imagenet-vgg-verydeep-19.mat’\n",
            "\n",
            "imagenet-vgg-veryde 100%[===================>] 510.12M  34.4MB/s    in 15s     \n",
            "\n",
            "2023-05-26 18:59:57 (33.6 MB/s) - ‘imagenet-vgg-verydeep-19.mat’ saved [534904783/534904783]\n",
            "\n"
          ]
        }
      ]
    },
    {
      "cell_type": "code",
      "source": [
        "!pip install gdown"
      ],
      "metadata": {
        "colab": {
          "base_uri": "https://localhost:8080/"
        },
        "id": "MHb9QRu8FuIR",
        "outputId": "7a9423d8-738f-4976-ff0a-f89391fec796"
      },
      "execution_count": null,
      "outputs": [
        {
          "output_type": "stream",
          "name": "stdout",
          "text": [
            "Looking in indexes: https://pypi.org/simple, https://us-python.pkg.dev/colab-wheels/public/simple/\n",
            "Collecting gdown\n",
            "  Downloading https://files.pythonhosted.org/packages/e7/38/e3393edb5fd157abaa54292f31251f8c2ff739673f535990f8a43e69b9dd/gdown-4.7.1-py3-none-any.whl\n",
            "Collecting beautifulsoup4 (from gdown)\n",
            "\u001b[?25l  Downloading https://files.pythonhosted.org/packages/57/f4/a69c20ee4f660081a7dedb1ac57f29be9378e04edfcb90c526b923d4bebc/beautifulsoup4-4.12.2-py3-none-any.whl (142kB)\n",
            "\u001b[K    100% |████████████████████████████████| 143kB 6.8MB/s \n",
            "\u001b[?25hCollecting tqdm (from gdown)\n",
            "\u001b[?25l  Downloading https://files.pythonhosted.org/packages/47/bb/849011636c4da2e44f1253cd927cfb20ada4374d8b3a4e425416e84900cc/tqdm-4.64.1-py2.py3-none-any.whl (78kB)\n",
            "\u001b[K    100% |████████████████████████████████| 81kB 23.5MB/s \n",
            "\u001b[?25hRequirement already satisfied: six in /usr/local/lib/python3.6/site-packages (from gdown) (1.11.0)\n",
            "Collecting filelock (from gdown)\n",
            "  Downloading https://files.pythonhosted.org/packages/84/ce/8916d10ef537f3f3b046843255f9799504aa41862bfa87844b9bdc5361cd/filelock-3.4.1-py3-none-any.whl\n",
            "Requirement already satisfied: requests[socks] in /usr/local/lib/python3.6/site-packages (from gdown) (2.18.4)\n",
            "Collecting soupsieve>1.2 (from beautifulsoup4->gdown)\n",
            "  Downloading https://files.pythonhosted.org/packages/16/e3/4ad79882b92617e3a4a0df1960d6bce08edfb637737ac5c3f3ba29022e25/soupsieve-2.3.2.post1-py3-none-any.whl\n",
            "Collecting importlib-resources; python_version < \"3.7\" (from tqdm->gdown)\n",
            "  Downloading https://files.pythonhosted.org/packages/24/1b/33e489669a94da3ef4562938cd306e8fa915e13939d7b8277cb5569cb405/importlib_resources-5.4.0-py3-none-any.whl\n",
            "Requirement already satisfied: chardet<3.1.0,>=3.0.2 in /usr/local/lib/python3.6/site-packages (from requests[socks]->gdown) (3.0.4)\n",
            "Requirement already satisfied: idna<2.7,>=2.5 in /usr/local/lib/python3.6/site-packages (from requests[socks]->gdown) (2.6)\n",
            "Requirement already satisfied: urllib3<1.23,>=1.21.1 in /usr/local/lib/python3.6/site-packages (from requests[socks]->gdown) (1.22)\n",
            "Requirement already satisfied: certifi>=2017.4.17 in /usr/local/lib/python3.6/site-packages (from requests[socks]->gdown) (2018.4.16)\n",
            "Requirement already satisfied: PySocks!=1.5.7,>=1.5.6 in /usr/local/lib/python3.6/site-packages (from requests[socks]->gdown) (1.6.8)\n",
            "Collecting zipp>=3.1.0; python_version < \"3.10\" (from importlib-resources; python_version < \"3.7\"->tqdm->gdown)\n",
            "  Downloading https://files.pythonhosted.org/packages/bd/df/d4a4974a3e3957fd1c1fa3082366d7fff6e428ddb55f074bf64876f8e8ad/zipp-3.6.0-py3-none-any.whl\n",
            "Installing collected packages: soupsieve, beautifulsoup4, zipp, importlib-resources, tqdm, filelock, gdown\n",
            "Successfully installed beautifulsoup4-4.12.2 filelock-3.4.1 gdown-4.7.1 importlib-resources-5.4.0 soupsieve-2.3.2.post1 tqdm-4.64.1 zipp-3.6.0\n"
          ]
        }
      ]
    },
    {
      "cell_type": "code",
      "source": [
        "%cd .."
      ],
      "metadata": {
        "colab": {
          "base_uri": "https://localhost:8080/"
        },
        "id": "KUlXZOUKHnf3",
        "outputId": "f031e713-e34c-4506-f4b2-e26d6dc23a14"
      },
      "execution_count": null,
      "outputs": [
        {
          "output_type": "stream",
          "name": "stdout",
          "text": [
            "/content/perceptual-reflection-removal\n"
          ]
        }
      ]
    },
    {
      "cell_type": "code",
      "source": [
        "!gdown https://drive.google.com/uc?id=1I9e2r_e0Ap6ds4MYRwoamUUlz6PzXPPj\n",
        "!gdown https://drive.google.com/uc?id=1D-GmsoP1I52bZqPMEo7cPjqcPjkjcsGv"
      ],
      "metadata": {
        "colab": {
          "base_uri": "https://localhost:8080/"
        },
        "id": "Llqjp_-lHcaB",
        "outputId": "24cf2e8e-2ab8-4dc8-eeb1-f4c6f5b5d324"
      },
      "execution_count": null,
      "outputs": [
        {
          "output_type": "stream",
          "name": "stdout",
          "text": [
            "Downloading...\n",
            "From (uriginal): https://drive.google.com/uc?id=1I9e2r_e0Ap6ds4MYRwoamUUlz6PzXPPj\n",
            "From (redirected): https://drive.google.com/uc?id=1I9e2r_e0Ap6ds4MYRwoamUUlz6PzXPPj&confirm=t&uuid=a3af7354-411f-4358-8745-449a9edb766f\n",
            "To: /content/perceptual-reflection-removal/pre-trained.tar.gz\n",
            "100% 367M/367M [00:02<00:00, 156MB/s]\n",
            "Downloading...\n",
            "From: https://drive.google.com/uc?id=1D-GmsoP1I52bZqPMEo7cPjqcPjkjcsGv\n",
            "To: /content/perceptual-reflection-removal/env_for_tamim.yml\n",
            "100% 1.73k/1.73k [00:00<00:00, 2.94MB/s]\n"
          ]
        }
      ]
    },
    {
      "cell_type": "code",
      "source": [
        "!tar -xvzf pre-trained.tar.gz"
      ],
      "metadata": {
        "colab": {
          "base_uri": "https://localhost:8080/"
        },
        "id": "VxG2FGldH2Y1",
        "outputId": "259872b0-5542-4b01-9aa5-21b488925488"
      },
      "execution_count": null,
      "outputs": [
        {
          "output_type": "stream",
          "name": "stdout",
          "text": [
            "pre-trained/model.ckpt.data-00000-of-00001\n",
            "pre-trained/model.ckpt.index\n",
            "pre-trained/model.ckpt.meta\n",
            "pre-trained/checkpoint\n",
            "pre-trained/\n"
          ]
        }
      ]
    },
    {
      "cell_type": "code",
      "source": [
        "# from google.colab import drive\n",
        "# drive.mount('/content/drive')"
      ],
      "metadata": {
        "colab": {
          "base_uri": "https://localhost:8080/"
        },
        "id": "jLd0MUTBQ3iN",
        "outputId": "8faa1529-bd24-47f0-825f-c781329416cd"
      },
      "execution_count": null,
      "outputs": [
        {
          "output_type": "stream",
          "name": "stdout",
          "text": [
            "Mounted at /content/drive\n"
          ]
        }
      ]
    },
    {
      "cell_type": "code",
      "source": [
        "# %cd /content\n",
        "# !cp /content/drive/MyDrive/packs.zip /content/\n",
        "# !rm -rf unzipped_packs\n",
        "# !mkdir unzipped_packs\n",
        "# !unzip -q /content/packs.zip -d unzipped_packs/\n",
        "# !cp -rf /content/unzipped_packs/* /usr/local/lib/python3.6"
      ],
      "metadata": {
        "colab": {
          "base_uri": "https://localhost:8080/"
        },
        "id": "54VqPszUSsb9",
        "outputId": "d2519018-76e9-4f78-a69f-ed18f8ec86b4"
      },
      "execution_count": null,
      "outputs": [
        {
          "output_type": "stream",
          "name": "stdout",
          "text": [
            "/content\n"
          ]
        }
      ]
    },
    {
      "cell_type": "code",
      "source": [
        "#env_for_tamim.yml contains env.yml without creating a new environment\n",
        "!conda env update --file env_for_tamim.yml -n base"
      ],
      "metadata": {
        "id": "ZqxSrtGpYRXt"
      },
      "execution_count": null,
      "outputs": []
    },
    {
      "cell_type": "markdown",
      "source": [
        "# Comment the following block ---out--- after the first time"
      ],
      "metadata": {
        "id": "a8d70OP0atSL"
      }
    },
    {
      "cell_type": "code",
      "source": [
        "# %cd /content\n",
        "# !zip -rq packs.zip /usr/local/lib/python3.6\n",
        "# !cp packs.zip /content/drive/MyDrive\n",
        "\n",
        "# import google.colab\n",
        "# google.colab.drive.flush_and_unmount()"
      ],
      "metadata": {
        "id": "Z9BQmv2pQzFE"
      },
      "execution_count": null,
      "outputs": []
    },
    {
      "cell_type": "markdown",
      "source": [],
      "metadata": {
        "id": "mNKQ3sACVXzW"
      }
    },
    {
      "cell_type": "code",
      "source": [
        "!pip install -q ipykernel"
      ],
      "metadata": {
        "colab": {
          "base_uri": "https://localhost:8080/"
        },
        "id": "ymCprKeMoS_y",
        "outputId": "c931941b-22d1-4b74-edbc-5d705eb9ad94"
      },
      "execution_count": null,
      "outputs": [
        {
          "output_type": "stream",
          "name": "stdout",
          "text": [
            "\u001b[K    100% |████████████████████████████████| 122kB 5.3MB/s \n",
            "\u001b[K    100% |████████████████████████████████| 81kB 21.4MB/s \n",
            "\u001b[K    100% |████████████████████████████████| 133kB 24.8MB/s \n",
            "\u001b[K    100% |████████████████████████████████| 788kB 12.2MB/s \n",
            "\u001b[K    100% |████████████████████████████████| 430kB 15.2MB/s \n",
            "\u001b[K    100% |████████████████████████████████| 256kB 23.0MB/s \n",
            "\u001b[K    100% |████████████████████████████████| 1.1MB 14.2MB/s \n",
            "\u001b[K    100% |████████████████████████████████| 92kB 20.8MB/s \n",
            "\u001b[K    100% |████████████████████████████████| 1.1MB 12.3MB/s \n",
            "\u001b[K    100% |████████████████████████████████| 61kB 20.2MB/s \n",
            "\u001b[K    100% |████████████████████████████████| 389kB 23.3MB/s \n",
            "\u001b[K    100% |████████████████████████████████| 1.4MB 12.8MB/s \n",
            "\u001b[K    100% |████████████████████████████████| 112kB 25.2MB/s \n",
            "\u001b[?25h"
          ]
        }
      ]
    },
    {
      "cell_type": "markdown",
      "source": [
        "Input in /content/perceptual-reflection-removal/test_images\n",
        "<br>\n",
        "Output in /content/perceptual-reflection-removal/test_results"
      ],
      "metadata": {
        "id": "upLHjkJBrvbN"
      }
    },
    {
      "cell_type": "code",
      "source": [
        "%cd /content/perceptual-reflection-removal"
      ],
      "metadata": {
        "colab": {
          "base_uri": "https://localhost:8080/"
        },
        "id": "kIrnWBttS-5g",
        "outputId": "9e963918-4e3f-492e-a1dd-b98738bc4780"
      },
      "execution_count": null,
      "outputs": [
        {
          "output_type": "stream",
          "name": "stdout",
          "text": [
            "/content/perceptual-reflection-removal\n"
          ]
        }
      ]
    },
    {
      "cell_type": "code",
      "source": [
        "!python3 main.py --task pre-trained --is_training 0"
      ],
      "metadata": {
        "id": "syJ2vgUfYxII",
        "colab": {
          "base_uri": "https://localhost:8080/"
        },
        "outputId": "4dab6f88-0be7-46f1-8cf7-bf758e7659de"
      },
      "execution_count": null,
      "outputs": [
        {
          "output_type": "stream",
          "name": "stdout",
          "text": [
            "Traceback (most recent call last):\n",
            "  File \"main.py\", line 2, in <module>\n",
            "    import os,time,cv2,scipy.io\n",
            "ModuleNotFoundError: No module named 'cv2'\n"
          ]
        }
      ]
    }
  ]
}